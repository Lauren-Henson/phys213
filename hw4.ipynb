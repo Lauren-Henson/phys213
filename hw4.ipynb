{
 "cells": [
  {
   "cell_type": "code",
   "execution_count": 1,
   "metadata": {},
   "outputs": [],
   "source": [
    "import numpy as np\n",
    "import matplotlib.pyplot as plt\n",
    "import pint\n",
    "from matplotlib import colormaps\n",
    "\n",
    "\n",
    "ureg = pint.UnitRegistry()\n",
    "ureg.default_system = 'cgs'\n"
   ]
  },
  {
   "cell_type": "code",
   "execution_count": null,
   "metadata": {},
   "outputs": [],
   "source": [
    "c = 3e5                             # km/s\n",
    "b = np.array([1,2,3,5,10])          # km/s\n",
    "\n",
    "def plot_eqwidth(N,f,wavelength,gamma):\n",
    "    for j in range(len(b)):\n",
    "        W_list = []\n",
    "        tau_list = []\n",
    "\n",
    "        for i in range(len(N)):\n",
    "            tau_0 = 0.7580 * (N[i]/1e13) * (f/0.4164) * (wavelength/1215.7) * (10/b[j])\n",
    "            # print(tau_0)\n",
    "            tau_list += [tau_0]\n",
    "\n",
    "            if tau_0 < 1.25393:\n",
    "                W = np.sqrt(np.pi) * b[j]/c * (tau_0/(1 + tau_0/(2*np.sqrt(2))))\n",
    "                W_list += [W*wavelength]\n",
    "            elif tau_0 > 1.25393:\n",
    "                W = np.sqrt((2*b[j]/c)**2 * np.log(tau_0/np.log(2)) + b[j]/c * gamma*wavelength*1e-13/c * (tau_0-1.25393)/np.sqrt(np.pi))\n",
    "                W_list += [W*wavelength]\n",
    "\n",
    "        # print(np.max(tau_list))\n",
    "        plt.plot(np.log10(N),np.log10(W_list),label=f'b={b[j]}')\n",
    "    plt.legend()\n",
    "    plt.show()\n"
   ]
  }
 ],
 "metadata": {
  "kernelspec": {
   "display_name": "Python 3",
   "language": "python",
   "name": "python3"
  },
  "language_info": {
   "codemirror_mode": {
    "name": "ipython",
    "version": 3
   },
   "file_extension": ".py",
   "mimetype": "text/x-python",
   "name": "python",
   "nbconvert_exporter": "python",
   "pygments_lexer": "ipython3",
   "version": "3.12.2"
  }
 },
 "nbformat": 4,
 "nbformat_minor": 2
}
